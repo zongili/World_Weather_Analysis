{
 "cells": [
  {
   "cell_type": "code",
   "execution_count": 89,
   "metadata": {},
   "outputs": [
    {
     "name": "stdout",
     "output_type": "stream",
     "text": [
      "25.12903645 -67.59741259\n",
      "25.92017388 11.09532135\n",
      "26.62509167 74.84233102\n",
      "-59.98969384 -76.89176677\n",
      "37.30571269 -61.13376282\n"
     ]
    }
   ],
   "source": [
    "# Create a practice set of random latitude and longitude combinations.\n",
    "x = [25.12903645, 25.92017388, 26.62509167, -59.98969384, 37.30571269]\n",
    "y = [-67.59741259, 11.09532135, 74.84233102, -76.89176677, -61.13376282]\n",
    "coordinates = zip(x, y)\n",
    "# In a new cell, display the coordinate pairs with the following code.\n",
    "\n",
    "# Use the tuple() function to display the latitude and longitude combinations.\n",
    "for coordinate in coordinates:\n",
    "    print(coordinate[0], coordinate[1])\n",
    "# Click the clipboard to copy pip install citipy.\n",
    "\n",
    "# Launch your PythonData Anaconda Prompt. You should see the following:\n",
    "\n",
    "# (PythonData) C:\\Users\\your_computer_name>\n",
    "# Paste pip install citipy and press Enter.\n",
    "\n",
    "# The citipy module will probably take a few minutes to download into your PythonData environment.\n",
    "\n",
    "# To learn how to use citypy, click \"Homepage\" on the module webpage or see the GitHub citipy \n",
    "# repository https://github.com/wingchen/citipy    \n",
    "# \n",
    "# Under \"Looking up with coordinates,\" the first line says from citipy import citipy, meaning we'll \n",
    "# import the citipy script from the citipy module.    \n",
    "# Use the citipy module to determine city based on latitude and longitude.\n",
    "# from citipy import citipy"
   ]
  },
  {
   "cell_type": "code",
   "execution_count": 93,
   "metadata": {},
   "outputs": [],
   "source": [
    "# from citipy import citipy\n",
    "\n",
    "cities = []\n",
    "# Identify the nearest city for each latitude and longitude combination.\n",
    "for coordinate in coordinates:\n",
    "    print(\"hello\")\n",
    "    city = citipy.nearest_city(coordinate[0], coordinate[1]).city_name\n",
    "    print(city)\n",
    "    # If the city is unique, then we will add it to the cities list.\n",
    "    if city not in cities:\n",
    "        cities.append(city)\n",
    "# Print the city count to confirm sufficient count.\n",
    "# len(cities)\n",
    "# Use the tuple() function to display the latitude and longitude combinations.\n",
    "# for coordinate in coordinates:\n",
    "#     print(citipy.nearest_city(coordinate[0], coordinate[1]).city_name, \n",
    "#     citipy.nearest_city(coordinate[0], coordinate[1]).country_code)\n",
    "# len(cities)"
   ]
  },
  {
   "cell_type": "code",
   "execution_count": 63,
   "metadata": {
    "scrolled": true
   },
   "outputs": [
    {
     "data": {
      "text/plain": [
       "'2.26.0'"
      ]
     },
     "execution_count": 63,
     "metadata": {},
     "output_type": "execute_result"
    }
   ],
   "source": [
    "import requests\n",
    "requests.__version__"
   ]
  },
  {
   "cell_type": "code",
   "execution_count": 64,
   "metadata": {},
   "outputs": [
    {
     "name": "stdout",
     "output_type": "stream",
     "text": [
      "City Weather found.\n"
     ]
    },
    {
     "data": {
      "text/plain": [
       "{'coord': {'lon': -71.0598, 'lat': 42.3584},\n",
       " 'weather': [{'id': 801,\n",
       "   'main': 'Clouds',\n",
       "   'description': 'few clouds',\n",
       "   'icon': '02n'}],\n",
       " 'base': 'stations',\n",
       " 'main': {'temp': 28.27,\n",
       "  'feels_like': 25.11,\n",
       "  'temp_min': 23.74,\n",
       "  'temp_max': 32.25,\n",
       "  'pressure': 1021,\n",
       "  'humidity': 68},\n",
       " 'visibility': 10000,\n",
       " 'wind': {'speed': 3, 'deg': 295, 'gust': 8.99},\n",
       " 'clouds': {'all': 20},\n",
       " 'dt': 1640060739,\n",
       " 'sys': {'type': 2,\n",
       "  'id': 2013408,\n",
       "  'country': 'US',\n",
       "  'sunrise': 1640002186,\n",
       "  'sunset': 1640034849},\n",
       " 'timezone': -18000,\n",
       " 'id': 4930956,\n",
       " 'name': 'Boston',\n",
       " 'cod': 200}"
      ]
     },
     "execution_count": 64,
     "metadata": {},
     "output_type": "execute_result"
    }
   ],
   "source": [
    "# Import the requests library.\n",
    "import requests\n",
    "\n",
    "# Import the API key.\n",
    "from config import HavaAPI\n",
    "\n",
    "# Starting URL for Weather Map API Call.\n",
    "# url = \"http://api.openweathermap.org/data/2.5/weather?units=Imperial&APPID=\" + HavaAPI\n",
    "\n",
    "url = \"http://api.openweathermap.org/data/2.5/weather?units=imperial&appid=\"+HavaAPI\n",
    "# city_url = \"&q=Istanbul\"\n",
    "# url = url+city_url\n",
    "# print(url)\n",
    "city_url = url + \"&q=\" + \"Boston\"\n",
    "# Make a 'Get' request for the city weather.\n",
    "city_weather = requests.get(city_url)\n",
    "if city_weather.status_code == 200:\n",
    "    print(f\"City Weather found.\")\n",
    "else:\n",
    "    print(f\"City weather not found.\")\n",
    "# print(city_url)\n",
    "# city_weather = requests.get(city_url.status_code)\n",
    "# The text in the output is a dictionary of dictionaries and arrays, or a JSON file.\n",
    "# We can work with this data, but it might be more challenging if we needed to retrieve\n",
    "# temperature (temp) and humidity ( humidity) from this output because the data is in\n",
    "# a sentence format.\n",
    "# Let's use the json() attribute with our response and run the cell.\n",
    "# Get the JSON text of the 'Get' request.\n",
    "\n",
    "# city_weather.text\n",
    "city_weather.json()"
   ]
  },
  {
   "cell_type": "code",
   "execution_count": 65,
   "metadata": {},
   "outputs": [
    {
     "name": "stdout",
     "output_type": "stream",
     "text": [
      "42.3584 -71.0598 32.25 68 20 3\n"
     ]
    }
   ],
   "source": [
    "# Get the JSON data.\n",
    "boston_data = city_weather.json()\n",
    "boston_data[\"sys\"][\"country\"]\n",
    "boston_data[\"dt\"]\n",
    "boston_data[\"coord\"][\"lat\"]\n",
    "#  get the time of day, we can get the latitude, \n",
    "#     longitude, maximum temperature, humidity, percent cloudiness,\n",
    "#     and wind speed.\n",
    "lat = boston_data[\"coord\"][\"lat\"]\n",
    "lng = boston_data[\"coord\"][\"lon\"]\n",
    "max_temp = boston_data[\"main\"][\"temp_max\"]\n",
    "humidity = boston_data[\"main\"][\"humidity\"]\n",
    "clouds = boston_data[\"clouds\"][\"all\"]\n",
    "wind = boston_data[\"wind\"][\"speed\"]\n",
    "print(lat, lng, max_temp, humidity, clouds, wind)"
   ]
  },
  {
   "cell_type": "code",
   "execution_count": 66,
   "metadata": {},
   "outputs": [
    {
     "data": {
      "text/plain": [
       "'2021-12-21 04:25:39'"
      ]
     },
     "execution_count": 66,
     "metadata": {},
     "output_type": "execute_result"
    }
   ],
   "source": [
    "# Convert the Date Timestamp\n",
    "# Import the datetime module from the datetime library.\n",
    "from datetime import datetime\n",
    "# Get the date from the JSON file.\n",
    "date = boston_data[\"dt\"]\n",
    "# Convert the UTC date to a date format with year, month, day, hours, minutes, and seconds.\n",
    "datetime.utcfromtimestamp(date)\n",
    "# We canconvert this datetime format to 2019-10-21 17:24:35 using the \n",
    "#         Python string format method strftime() and adding how we want the \n",
    "# string to look inside the parentheses. \n",
    "# strftime('%Y-%m-%d %H:%M:%S')\n",
    "datetime.utcfromtimestamp(date).strftime('%Y-%m-%d %H:%M:%S')"
   ]
  },
  {
   "cell_type": "code",
   "execution_count": null,
   "metadata": {},
   "outputs": [],
   "source": []
  }
 ],
 "metadata": {
  "kernelspec": {
   "display_name": "Python 3 (ipykernel)",
   "language": "python",
   "name": "python3"
  },
  "language_info": {
   "codemirror_mode": {
    "name": "ipython",
    "version": 3
   },
   "file_extension": ".py",
   "mimetype": "text/x-python",
   "name": "python",
   "nbconvert_exporter": "python",
   "pygments_lexer": "ipython3",
   "version": "3.9.7"
  }
 },
 "nbformat": 4,
 "nbformat_minor": 2
}
