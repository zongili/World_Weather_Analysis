{
 "cells": [
  {
   "cell_type": "code",
   "execution_count": 5,
   "metadata": {},
   "outputs": [
    {
     "data": {
      "text/plain": [
       "-83.924516181977"
      ]
     },
     "execution_count": 5,
     "metadata": {},
     "output_type": "execute_result"
    }
   ],
   "source": [
    "# Import the random module.\n",
    "import random\n",
    "# Import the NumPy module.\n",
    "import numpy as np\n",
    "\n",
    "# random.randint(-90, 90)\n",
    "# random(-90,90)\n",
    "# x = 1\n",
    "# latitudes = []\n",
    "# while x < 11:\n",
    "#     random_lat = random.randint(-90, 89) + random.random()\n",
    "#     latitudes.append(random_lat)\n",
    "#     x += 1\n",
    "random.randrange(-90, 90, step=1)\n",
    "random.randrange(-90, 90, step=3)\n",
    "random.uniform(-90, 90)"
   ]
  },
  {
   "cell_type": "code",
   "execution_count": 6,
   "metadata": {},
   "outputs": [
    {
     "name": "stdout",
     "output_type": "stream",
     "text": [
      "12.9 µs ± 14.4 ns per loop (mean ± std. dev. of 7 runs, 100000 loops each)\n",
      "1.33 ms ± 9.35 µs per loop (mean ± std. dev. of 7 runs, 1000 loops each)\n"
     ]
    }
   ],
   "source": [
    "# Import timeit.\n",
    "import timeit\n",
    "np.random.uniform(-90.000, 90.000)\n",
    "np.random.uniform(low=-90, high=90)\n",
    "np.random.uniform(-90.000, 90.000, size=50)\n",
    "# Using the np.random.uniform(-90.000, 90.000, size=1500) is 100 times faster than using the function, \n",
    "# and our code is one line, whereas the function uses eight lines!\n",
    "%timeit np.random.uniform(-90.000, 90.000, size=1500)\n",
    "def latitudes(size):\n",
    "    latitudes = []\n",
    "    x = 0\n",
    "    while x < (size):\n",
    "        random_lat = random.randint(-90, 90) + random.random()\n",
    "        latitudes.append(random_lat)\n",
    "        x += 1\n",
    "    return latitudes\n",
    "# Call the function with 1500.\n",
    "%timeit latitudes(1500)"
   ]
  }
 ],
 "metadata": {
  "kernelspec": {
   "display_name": "Python 3 (ipykernel)",
   "language": "python",
   "name": "python3"
  },
  "language_info": {
   "codemirror_mode": {
    "name": "ipython",
    "version": 3
   },
   "file_extension": ".py",
   "mimetype": "text/x-python",
   "name": "python",
   "nbconvert_exporter": "python",
   "pygments_lexer": "ipython3",
   "version": "3.9.7"
  }
 },
 "nbformat": 4,
 "nbformat_minor": 2
}
